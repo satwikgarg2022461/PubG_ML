{
 "cells": [
  {
   "cell_type": "code",
   "execution_count": 41,
   "metadata": {},
   "outputs": [],
   "source": [
    "import numpy as np\n",
    "import pandas as pd\n",
    "import matplotlib.pyplot as plt\n",
    "import seaborn as sns"
   ]
  },
  {
   "cell_type": "code",
   "execution_count": 42,
   "metadata": {},
   "outputs": [],
   "source": [
    "train=pd.read_csv('train_V2.csv')\n",
    "test=pd.read_csv('test_V2.csv')"
   ]
  },
  {
   "cell_type": "code",
   "execution_count": 43,
   "metadata": {},
   "outputs": [],
   "source": [
    "train[train.winPlacePerc.isnull()]\n",
    "train.drop(2744604,inplace=True)"
   ]
  },
  {
   "cell_type": "code",
   "execution_count": 44,
   "metadata": {},
   "outputs": [],
   "source": [
    "# create new feature player_played\n",
    "\n",
    "train['player_played']=train.groupby('matchId')['matchId'].transform('count')\n",
    "\n",
    "\n",
    "# test\n",
    "\n",
    "test['player_played']=test.groupby('matchId')['matchId'].transform('count')"
   ]
  },
  {
   "cell_type": "code",
   "execution_count": 45,
   "metadata": {},
   "outputs": [
    {
     "name": "stdout",
     "output_type": "stream",
     "text": [
      "<class 'pandas.core.frame.DataFrame'>\n",
      "Index: 4446965 entries, 0 to 4446965\n",
      "Data columns (total 30 columns):\n",
      " #   Column           Dtype  \n",
      "---  ------           -----  \n",
      " 0   Id               object \n",
      " 1   groupId          object \n",
      " 2   matchId          object \n",
      " 3   assists          int64  \n",
      " 4   boosts           int64  \n",
      " 5   damageDealt      float64\n",
      " 6   DBNOs            int64  \n",
      " 7   headshotKills    int64  \n",
      " 8   heals            int64  \n",
      " 9   killPlace        int64  \n",
      " 10  killPoints       int64  \n",
      " 11  kills            int64  \n",
      " 12  killStreaks      int64  \n",
      " 13  longestKill      float64\n",
      " 14  matchDuration    int64  \n",
      " 15  matchType        object \n",
      " 16  maxPlace         int64  \n",
      " 17  numGroups        int64  \n",
      " 18  rankPoints       int64  \n",
      " 19  revives          int64  \n",
      " 20  rideDistance     float64\n",
      " 21  roadKills        int64  \n",
      " 22  swimDistance     float64\n",
      " 23  teamKills        int64  \n",
      " 24  vehicleDestroys  int64  \n",
      " 25  walkDistance     float64\n",
      " 26  weaponsAcquired  int64  \n",
      " 27  winPoints        int64  \n",
      " 28  winPlacePerc     float64\n",
      " 29  player_played    int64  \n",
      "dtypes: float64(6), int64(20), object(4)\n",
      "memory usage: 1.0+ GB\n"
     ]
    }
   ],
   "source": [
    "train.info()"
   ]
  },
  {
   "cell_type": "code",
   "execution_count": 46,
   "metadata": {},
   "outputs": [],
   "source": [
    "#total_distance   #train.\n",
    "train['total_distance']=train.rideDistance+train.walkDistance+train.swimDistance"
   ]
  },
  {
   "cell_type": "code",
   "execution_count": 47,
   "metadata": {},
   "outputs": [],
   "source": [
    "\n",
    "# total distance  #test\n",
    "test['total_distance']=test.rideDistance+test.walkDistance+test.swimDistance"
   ]
  },
  {
   "cell_type": "code",
   "execution_count": 48,
   "metadata": {},
   "outputs": [],
   "source": [
    "\n",
    "# kills_without_moving\n",
    "\n",
    "#kills\n",
    "#total_distance\n",
    "\n",
    "#train\n",
    "train['kills_without_moving']=((train['kills']>0)&(train['total_distance']==0))\n",
    "\n",
    "#test\n",
    "test['kills_without_moving']=((test['kills']>0)&(test['total_distance']==0))"
   ]
  },
  {
   "cell_type": "code",
   "execution_count": 49,
   "metadata": {},
   "outputs": [
    {
     "data": {
      "text/plain": [
       "kills_without_moving\n",
       "False    1933863\n",
       "True         311\n",
       "Name: count, dtype: int64"
      ]
     },
     "execution_count": 49,
     "metadata": {},
     "output_type": "execute_result"
    }
   ],
   "source": [
    "train['kills_without_moving'].value_counts()\n",
    "\n",
    "test['kills_without_moving'].value_counts()"
   ]
  },
  {
   "cell_type": "code",
   "execution_count": 50,
   "metadata": {},
   "outputs": [],
   "source": [
    "train.drop(train[train['kills_without_moving']==True].index,inplace=True)\n",
    "\n",
    "\n",
    "test.drop(test[test['kills_without_moving']==True].index,inplace=True)"
   ]
  },
  {
   "cell_type": "code",
   "execution_count": 51,
   "metadata": {},
   "outputs": [
    {
     "data": {
      "text/plain": [
       "Index(['Id', 'groupId', 'matchId', 'assists', 'boosts', 'damageDealt', 'DBNOs',\n",
       "       'headshotKills', 'heals', 'killPlace', 'killPoints', 'kills',\n",
       "       'killStreaks', 'longestKill', 'matchDuration', 'matchType', 'maxPlace',\n",
       "       'numGroups', 'rankPoints', 'revives', 'rideDistance', 'roadKills',\n",
       "       'swimDistance', 'teamKills', 'vehicleDestroys', 'walkDistance',\n",
       "       'weaponsAcquired', 'winPoints', 'winPlacePerc', 'player_played',\n",
       "       'total_distance', 'kills_without_moving'],\n",
       "      dtype='object')"
      ]
     },
     "execution_count": 51,
     "metadata": {},
     "output_type": "execute_result"
    }
   ],
   "source": [
    "train.columns"
   ]
  },
  {
   "cell_type": "code",
   "execution_count": 52,
   "metadata": {},
   "outputs": [],
   "source": [
    "train.drop(['kills_without_moving'], axis =1,inplace = True)\n",
    "test.drop(['kills_without_moving'], axis =1,inplace = True)"
   ]
  },
  {
   "cell_type": "code",
   "execution_count": 53,
   "metadata": {},
   "outputs": [],
   "source": [
    "train['players_joined'] = train.groupby('matchId')['matchId'].transform('count')\n",
    "test['players_joined'] = test.groupby('matchId')['matchId'].transform('count')\n"
   ]
  },
  {
   "cell_type": "code",
   "execution_count": 54,
   "metadata": {},
   "outputs": [],
   "source": [
    "train['players_in_a_team'] = train.groupby('groupId').groupId.transform('count')\n",
    "test['players_in_a_team'] = test.groupby('groupId').groupId.transform('count')\n",
    "\n"
   ]
  },
  {
   "cell_type": "code",
   "execution_count": 55,
   "metadata": {},
   "outputs": [
    {
     "data": {
      "text/plain": [
       "a\n",
       "False    3528650\n",
       "True      916780\n",
       "Name: count, dtype: int64"
      ]
     },
     "execution_count": 55,
     "metadata": {},
     "output_type": "execute_result"
    }
   ],
   "source": [
    "team_mapper = lambda x: 1 if ('solo' in x) else 2 if ('duo' in x) else 4\n",
    "train[\"max_team\"] = train['matchType'].apply(team_mapper)\n",
    "train['a'] = train[\"players_in_a_team\"] > train[\"max_team\"]\n",
    "train['a'] .value_counts()"
   ]
  },
  {
   "cell_type": "code",
   "execution_count": 56,
   "metadata": {},
   "outputs": [
    {
     "data": {
      "text/plain": [
       "a\n",
       "False    1539282\n",
       "True      394581\n",
       "Name: count, dtype: int64"
      ]
     },
     "execution_count": 56,
     "metadata": {},
     "output_type": "execute_result"
    }
   ],
   "source": [
    "team_mapper = lambda x: 1 if ('solo' in x) else 2 if ('duo' in x) else 4\n",
    "test[\"max_team\"] = test['matchType'].apply(team_mapper)\n",
    "test['a'] = test[\"players_in_a_team\"] > test[\"max_team\"]\n",
    "test['a'] .value_counts()"
   ]
  },
  {
   "cell_type": "code",
   "execution_count": 57,
   "metadata": {},
   "outputs": [],
   "source": [
    "train.drop(train[train['a'] == True].index , inplace = True )"
   ]
  },
  {
   "cell_type": "code",
   "execution_count": 58,
   "metadata": {},
   "outputs": [
    {
     "data": {
      "text/plain": [
       "Index(['Id', 'groupId', 'matchId', 'assists', 'boosts', 'damageDealt', 'DBNOs',\n",
       "       'headshotKills', 'heals', 'killPlace', 'killPoints', 'kills',\n",
       "       'killStreaks', 'longestKill', 'matchDuration', 'matchType', 'maxPlace',\n",
       "       'numGroups', 'rankPoints', 'revives', 'rideDistance', 'roadKills',\n",
       "       'swimDistance', 'teamKills', 'vehicleDestroys', 'walkDistance',\n",
       "       'weaponsAcquired', 'winPoints', 'winPlacePerc', 'player_played',\n",
       "       'total_distance', 'players_joined', 'players_in_a_team', 'max_team',\n",
       "       'a'],\n",
       "      dtype='object')"
      ]
     },
     "execution_count": 58,
     "metadata": {},
     "output_type": "execute_result"
    }
   ],
   "source": [
    "train.columns"
   ]
  },
  {
   "cell_type": "code",
   "execution_count": 59,
   "metadata": {},
   "outputs": [],
   "source": [
    "test.drop(test[test['a'] == True].index , inplace = True )"
   ]
  },
  {
   "cell_type": "code",
   "execution_count": 60,
   "metadata": {},
   "outputs": [
    {
     "data": {
      "text/plain": [
       "a\n",
       "False    3528650\n",
       "Name: count, dtype: int64"
      ]
     },
     "execution_count": 60,
     "metadata": {},
     "output_type": "execute_result"
    }
   ],
   "source": [
    "train['a'].value_counts()"
   ]
  },
  {
   "cell_type": "code",
   "execution_count": 61,
   "metadata": {},
   "outputs": [
    {
     "data": {
      "text/plain": [
       "a\n",
       "False    1539282\n",
       "Name: count, dtype: int64"
      ]
     },
     "execution_count": 61,
     "metadata": {},
     "output_type": "execute_result"
    }
   ],
   "source": [
    "test['a'].value_counts()"
   ]
  },
  {
   "cell_type": "code",
   "execution_count": 62,
   "metadata": {},
   "outputs": [],
   "source": [
    "train.drop(['a'], axis =1,inplace = True)"
   ]
  },
  {
   "cell_type": "code",
   "execution_count": 63,
   "metadata": {},
   "outputs": [],
   "source": [
    "test.drop(['a'], axis =1,inplace = True)"
   ]
  },
  {
   "cell_type": "code",
   "execution_count": 64,
   "metadata": {},
   "outputs": [
    {
     "name": "stdout",
     "output_type": "stream",
     "text": [
      "<class 'pandas.core.frame.DataFrame'>\n",
      "Index: 3528650 entries, 0 to 4446965\n",
      "Data columns (total 34 columns):\n",
      " #   Column             Dtype  \n",
      "---  ------             -----  \n",
      " 0   Id                 object \n",
      " 1   groupId            object \n",
      " 2   matchId            object \n",
      " 3   assists            int64  \n",
      " 4   boosts             int64  \n",
      " 5   damageDealt        float64\n",
      " 6   DBNOs              int64  \n",
      " 7   headshotKills      int64  \n",
      " 8   heals              int64  \n",
      " 9   killPlace          int64  \n",
      " 10  killPoints         int64  \n",
      " 11  kills              int64  \n",
      " 12  killStreaks        int64  \n",
      " 13  longestKill        float64\n",
      " 14  matchDuration      int64  \n",
      " 15  matchType          object \n",
      " 16  maxPlace           int64  \n",
      " 17  numGroups          int64  \n",
      " 18  rankPoints         int64  \n",
      " 19  revives            int64  \n",
      " 20  rideDistance       float64\n",
      " 21  roadKills          int64  \n",
      " 22  swimDistance       float64\n",
      " 23  teamKills          int64  \n",
      " 24  vehicleDestroys    int64  \n",
      " 25  walkDistance       float64\n",
      " 26  weaponsAcquired    int64  \n",
      " 27  winPoints          int64  \n",
      " 28  winPlacePerc       float64\n",
      " 29  player_played      int64  \n",
      " 30  total_distance     float64\n",
      " 31  players_joined     int64  \n",
      " 32  players_in_a_team  int64  \n",
      " 33  max_team           int64  \n",
      "dtypes: float64(7), int64(23), object(4)\n",
      "memory usage: 942.3+ MB\n"
     ]
    }
   ],
   "source": [
    "train.info()"
   ]
  },
  {
   "cell_type": "code",
   "execution_count": 30,
   "metadata": {},
   "outputs": [
    {
     "data": {
      "text/plain": [
       "roadKills\n",
       "0     3516869\n",
       "1       10182\n",
       "2        1180\n",
       "3         274\n",
       "4          68\n",
       "5          33\n",
       "6          19\n",
       "7          11\n",
       "8           6\n",
       "9           2\n",
       "11          2\n",
       "10          2\n",
       "14          1\n",
       "18          1\n",
       "Name: count, dtype: int64"
      ]
     },
     "execution_count": 30,
     "metadata": {},
     "output_type": "execute_result"
    }
   ],
   "source": [
    "\n",
    "# roadKills count\n",
    "\n",
    "\n",
    "train['roadKills'].value_counts()"
   ]
  },
  {
   "cell_type": "code",
   "execution_count": 31,
   "metadata": {},
   "outputs": [],
   "source": [
    "#test\n",
    "\n",
    "train.drop(train[train['roadKills']>=10].index,inplace=True)\n",
    "\n",
    "#test \n",
    "\n",
    "test.drop(test[test['roadKills']>=10].index,inplace=True)"
   ]
  },
  {
   "cell_type": "code",
   "execution_count": 32,
   "metadata": {},
   "outputs": [
    {
     "data": {
      "text/plain": [
       "kills\n",
       "0     1874871\n",
       "1      765887\n",
       "2      411460\n",
       "3      210185\n",
       "4      115663\n",
       "5       62892\n",
       "6       36176\n",
       "7       20854\n",
       "8       12166\n",
       "9        7206\n",
       "10       4283\n",
       "11       2517\n",
       "12       1573\n",
       "13        991\n",
       "14        627\n",
       "15        398\n",
       "16        235\n",
       "17        166\n",
       "18        117\n",
       "19         66\n",
       "20         61\n",
       "22         43\n",
       "21         42\n",
       "23         22\n",
       "24         18\n",
       "28         14\n",
       "26         14\n",
       "25         12\n",
       "31          9\n",
       "27          8\n",
       "30          7\n",
       "36          6\n",
       "38          6\n",
       "33          5\n",
       "35          4\n",
       "29          4\n",
       "41          4\n",
       "32          3\n",
       "53          3\n",
       "37          2\n",
       "44          2\n",
       "34          2\n",
       "56          2\n",
       "42          2\n",
       "55          2\n",
       "57          2\n",
       "39          2\n",
       "45          1\n",
       "72          1\n",
       "43          1\n",
       "49          1\n",
       "48          1\n",
       "40          1\n",
       "47          1\n",
       "50          1\n",
       "65          1\n",
       "46          1\n",
       "Name: count, dtype: int64"
      ]
     },
     "execution_count": 32,
     "metadata": {},
     "output_type": "execute_result"
    }
   ],
   "source": [
    "train['kills'].value_counts()"
   ]
  },
  {
   "cell_type": "code",
   "execution_count": 33,
   "metadata": {},
   "outputs": [
    {
     "data": {
      "text/plain": [
       "kills\n",
       "0     817339\n",
       "1     334532\n",
       "2     180290\n",
       "3      91586\n",
       "4      50347\n",
       "5      27452\n",
       "6      15815\n",
       "7       8965\n",
       "8       5119\n",
       "9       3183\n",
       "10      1843\n",
       "11      1120\n",
       "12       643\n",
       "13       403\n",
       "14       219\n",
       "15       133\n",
       "16       107\n",
       "17        62\n",
       "18        32\n",
       "19        25\n",
       "20        16\n",
       "22         7\n",
       "30         6\n",
       "21         6\n",
       "24         5\n",
       "25         4\n",
       "23         3\n",
       "28         3\n",
       "37         2\n",
       "32         2\n",
       "26         2\n",
       "36         2\n",
       "56         1\n",
       "41         1\n",
       "46         1\n",
       "40         1\n",
       "31         1\n",
       "27         1\n",
       "Name: count, dtype: int64"
      ]
     },
     "execution_count": 33,
     "metadata": {},
     "output_type": "execute_result"
    }
   ],
   "source": [
    "test['kills'].value_counts()"
   ]
  },
  {
   "cell_type": "code",
   "execution_count": 36,
   "metadata": {},
   "outputs": [
    {
     "data": {
      "image/png": "[encoded data removed]",
      "text/plain": [
       "<Figure size 1500x800 with 1 Axes>"
      ]
     },
     "metadata": {},
     "output_type": "display_data"
    }
   ],
   "source": [
    "\n",
    "plt.subplots(figsize=(15,8))\n",
    "sns.countplot(data=train,x=train['kills'])\n",
    "plt.title('Kills')\n",
    "plt.show()"
   ]
  },
  {
   "cell_type": "code",
   "execution_count": 37,
   "metadata": {},
   "outputs": [],
   "source": [
    "\n",
    "# drop the outliers.\n",
    "\n",
    "#train\n",
    "train.drop(train[train['kills']>=35].index,inplace=True)\n",
    "\n",
    "#test\n",
    "\n",
    "test.drop(test[test['kills']>=35].index,inplace=True)"
   ]
  },
  {
   "cell_type": "code",
   "execution_count": 39,
   "metadata": {},
   "outputs": [
    {
     "name": "stdout",
     "output_type": "stream",
     "text": [
      "<class 'pandas.core.frame.DataFrame'>\n",
      "Index: 1539271 entries, 0 to 1934173\n",
      "Data columns (total 33 columns):\n",
      " #   Column             Non-Null Count    Dtype  \n",
      "---  ------             --------------    -----  \n",
      " 0   Id                 1539271 non-null  object \n",
      " 1   groupId            1539271 non-null  object \n",
      " 2   matchId            1539271 non-null  object \n",
      " 3   assists            1539271 non-null  int64  \n",
      " 4   boosts             1539271 non-null  int64  \n",
      " 5   damageDealt        1539271 non-null  float64\n",
      " 6   DBNOs              1539271 non-null  int64  \n",
      " 7   headshotKills      1539271 non-null  int64  \n",
      " 8   heals              1539271 non-null  int64  \n",
      " 9   killPlace          1539271 non-null  int64  \n",
      " 10  killPoints         1539271 non-null  int64  \n",
      " 11  kills              1539271 non-null  int64  \n",
      " 12  killStreaks        1539271 non-null  int64  \n",
      " 13  longestKill        1539271 non-null  float64\n",
      " 14  matchDuration      1539271 non-null  int64  \n",
      " 15  matchType          1539271 non-null  object \n",
      " 16  maxPlace           1539271 non-null  int64  \n",
      " 17  numGroups          1539271 non-null  int64  \n",
      " 18  rankPoints         1539271 non-null  int64  \n",
      " 19  revives            1539271 non-null  int64  \n",
      " 20  rideDistance       1539271 non-null  float64\n",
      " 21  roadKills          1539271 non-null  int64  \n",
      " 22  swimDistance       1539271 non-null  float64\n",
      " 23  teamKills          1539271 non-null  int64  \n",
      " 24  vehicleDestroys    1539271 non-null  int64  \n",
      " 25  walkDistance       1539271 non-null  float64\n",
      " 26  weaponsAcquired    1539271 non-null  int64  \n",
      " 27  winPoints          1539271 non-null  int64  \n",
      " 28  player_played      1539271 non-null  int64  \n",
      " 29  total_distance     1539271 non-null  float64\n",
      " 30  players_joined     1539271 non-null  int64  \n",
      " 31  players_in_a_team  1539271 non-null  int64  \n",
      " 32  max_team           1539271 non-null  int64  \n",
      "dtypes: float64(6), int64(23), object(4)\n",
      "memory usage: 399.3+ MB\n"
     ]
    }
   ],
   "source": [
    "test.info()"
   ]
  },
  {
   "cell_type": "code",
   "execution_count": 40,
   "metadata": {},
   "outputs": [
    {
     "name": "stdout",
     "output_type": "stream",
     "text": [
      "<class 'pandas.core.frame.DataFrame'>\n",
      "Index: 3528597 entries, 0 to 4446965\n",
      "Data columns (total 34 columns):\n",
      " #   Column             Dtype  \n",
      "---  ------             -----  \n",
      " 0   Id                 object \n",
      " 1   groupId            object \n",
      " 2   matchId            object \n",
      " 3   assists            int64  \n",
      " 4   boosts             int64  \n",
      " 5   damageDealt        float64\n",
      " 6   DBNOs              int64  \n",
      " 7   headshotKills      int64  \n",
      " 8   heals              int64  \n",
      " 9   killPlace          int64  \n",
      " 10  killPoints         int64  \n",
      " 11  kills              int64  \n",
      " 12  killStreaks        int64  \n",
      " 13  longestKill        float64\n",
      " 14  matchDuration      int64  \n",
      " 15  matchType          object \n",
      " 16  maxPlace           int64  \n",
      " 17  numGroups          int64  \n",
      " 18  rankPoints         int64  \n",
      " 19  revives            int64  \n",
      " 20  rideDistance       float64\n",
      " 21  roadKills          int64  \n",
      " 22  swimDistance       float64\n",
      " 23  teamKills          int64  \n",
      " 24  vehicleDestroys    int64  \n",
      " 25  walkDistance       float64\n",
      " 26  weaponsAcquired    int64  \n",
      " 27  winPoints          int64  \n",
      " 28  winPlacePerc       float64\n",
      " 29  player_played      int64  \n",
      " 30  total_distance     float64\n",
      " 31  players_joined     int64  \n",
      " 32  players_in_a_team  int64  \n",
      " 33  max_team           int64  \n",
      "dtypes: float64(7), int64(23), object(4)\n",
      "memory usage: 942.2+ MB\n"
     ]
    }
   ],
   "source": [
    "train.info()"
   ]
  },
  {
   "cell_type": "code",
   "execution_count": 38,
   "metadata": {},
   "outputs": [
    {
     "name": "stderr",
     "output_type": "stream",
     "text": [
      "C:\\Users\\sarth\\AppData\\Local\\Temp\\ipykernel_19004\\241008008.py:4: UserWarning: \n",
      "\n",
      "`distplot` is a deprecated function and will be removed in seaborn v0.14.0.\n",
      "\n",
      "Please adapt your code to use either `displot` (a figure-level function with\n",
      "similar flexibility) or `histplot` (an axes-level function for histograms).\n",
      "\n",
      "For a guide to updating your code to use the new functions, please see\n",
      "https://gist.github.com/mwaskom/de44147ed2974457ad6372750bbe5751\n",
      "\n",
      "  sns.distplot(train['longestKill'],bins=20)\n"
     ]
    },
    {
     "data": {
      "text/plain": [
       "<Axes: xlabel='longestKill', ylabel='Density'>"
      ]
     },
     "execution_count": 38,
     "metadata": {},
     "output_type": "execute_result"
    },
    {
     "data": {
      "image/png": "[encoded data removed]",
      "text/plain": [
       "<Figure size 1500x800 with 1 Axes>"
      ]
     },
     "metadata": {},
     "output_type": "display_data"
    }
   ],
   "source": [
    "\n",
    "#longetKill \n",
    "#distplot\n",
    "plt.subplots(figsize=(15,8))\n",
    "sns.distplot(train['longestKill'],bins=20)"
   ]
  },
  {
   "cell_type": "code",
   "execution_count": 65,
   "metadata": {},
   "outputs": [
    {
     "data": {
      "text/html": [
       "<div>\n",
       "<style scoped>\n",
       "    .dataframe tbody tr th:only-of-type {\n",
       "        vertical-align: middle;\n",
       "    }\n",
       "\n",
       "    .dataframe tbody tr th {\n",
       "        vertical-align: top;\n",
       "    }\n",
       "\n",
       "    .dataframe thead th {\n",
       "        text-align: right;\n",
       "    }\n",
       "</style>\n",
       "<table border=\"1\" class=\"dataframe\">\n",
       "  <thead>\n",
       "    <tr style=\"text-align: right;\">\n",
       "      <th></th>\n",
       "      <th>Id</th>\n",
       "      <th>groupId</th>\n",
       "      <th>matchId</th>\n",
       "      <th>assists</th>\n",
       "      <th>boosts</th>\n",
       "      <th>damageDealt</th>\n",
       "      <th>DBNOs</th>\n",
       "      <th>headshotKills</th>\n",
       "      <th>heals</th>\n",
       "      <th>killPlace</th>\n",
       "      <th>...</th>\n",
       "      <th>vehicleDestroys</th>\n",
       "      <th>walkDistance</th>\n",
       "      <th>weaponsAcquired</th>\n",
       "      <th>winPoints</th>\n",
       "      <th>winPlacePerc</th>\n",
       "      <th>player_played</th>\n",
       "      <th>total_distance</th>\n",
       "      <th>players_joined</th>\n",
       "      <th>players_in_a_team</th>\n",
       "      <th>max_team</th>\n",
       "    </tr>\n",
       "  </thead>\n",
       "  <tbody>\n",
       "    <tr>\n",
       "      <th>202281</th>\n",
       "      <td>88e2af7d78af5a</td>\n",
       "      <td>34ddeede52c042</td>\n",
       "      <td>4346bc63bc67fa</td>\n",
       "      <td>0</td>\n",
       "      <td>3</td>\n",
       "      <td>783.9</td>\n",
       "      <td>5</td>\n",
       "      <td>1</td>\n",
       "      <td>1</td>\n",
       "      <td>5</td>\n",
       "      <td>...</td>\n",
       "      <td>1</td>\n",
       "      <td>3052.00</td>\n",
       "      <td>9</td>\n",
       "      <td>0</td>\n",
       "      <td>0.9231</td>\n",
       "      <td>88</td>\n",
       "      <td>3775.20</td>\n",
       "      <td>88</td>\n",
       "      <td>3</td>\n",
       "      <td>4</td>\n",
       "    </tr>\n",
       "    <tr>\n",
       "      <th>240005</th>\n",
       "      <td>41c2f5c0699807</td>\n",
       "      <td>9faecf87ab4275</td>\n",
       "      <td>634edab75860b3</td>\n",
       "      <td>5</td>\n",
       "      <td>0</td>\n",
       "      <td>1284.0</td>\n",
       "      <td>8</td>\n",
       "      <td>5</td>\n",
       "      <td>7</td>\n",
       "      <td>18</td>\n",
       "      <td>...</td>\n",
       "      <td>0</td>\n",
       "      <td>48.87</td>\n",
       "      <td>38</td>\n",
       "      <td>1500</td>\n",
       "      <td>0.5385</td>\n",
       "      <td>29</td>\n",
       "      <td>48.87</td>\n",
       "      <td>23</td>\n",
       "      <td>2</td>\n",
       "      <td>2</td>\n",
       "    </tr>\n",
       "    <tr>\n",
       "      <th>324313</th>\n",
       "      <td>ef390c152bcc3d</td>\n",
       "      <td>30fd444be3bbc1</td>\n",
       "      <td>4f7f8d6cf558b4</td>\n",
       "      <td>2</td>\n",
       "      <td>0</td>\n",
       "      <td>1028.0</td>\n",
       "      <td>0</td>\n",
       "      <td>0</td>\n",
       "      <td>0</td>\n",
       "      <td>9</td>\n",
       "      <td>...</td>\n",
       "      <td>0</td>\n",
       "      <td>1264.00</td>\n",
       "      <td>26</td>\n",
       "      <td>0</td>\n",
       "      <td>1.0000</td>\n",
       "      <td>51</td>\n",
       "      <td>2981.00</td>\n",
       "      <td>48</td>\n",
       "      <td>4</td>\n",
       "      <td>4</td>\n",
       "    </tr>\n",
       "    <tr>\n",
       "      <th>1209416</th>\n",
       "      <td>528659ff1c1aec</td>\n",
       "      <td>7d1ba83423551d</td>\n",
       "      <td>ea9386587d5888</td>\n",
       "      <td>0</td>\n",
       "      <td>6</td>\n",
       "      <td>1640.0</td>\n",
       "      <td>0</td>\n",
       "      <td>7</td>\n",
       "      <td>0</td>\n",
       "      <td>1</td>\n",
       "      <td>...</td>\n",
       "      <td>0</td>\n",
       "      <td>2848.00</td>\n",
       "      <td>4</td>\n",
       "      <td>1500</td>\n",
       "      <td>0.9412</td>\n",
       "      <td>52</td>\n",
       "      <td>2848.00</td>\n",
       "      <td>52</td>\n",
       "      <td>1</td>\n",
       "      <td>1</td>\n",
       "    </tr>\n",
       "    <tr>\n",
       "      <th>2122128</th>\n",
       "      <td>42df3102cb540b</td>\n",
       "      <td>7d9b2be15b355b</td>\n",
       "      <td>610d78f3affd2e</td>\n",
       "      <td>5</td>\n",
       "      <td>0</td>\n",
       "      <td>2500.0</td>\n",
       "      <td>0</td>\n",
       "      <td>7</td>\n",
       "      <td>1</td>\n",
       "      <td>2</td>\n",
       "      <td>...</td>\n",
       "      <td>0</td>\n",
       "      <td>464.50</td>\n",
       "      <td>52</td>\n",
       "      <td>0</td>\n",
       "      <td>0.0000</td>\n",
       "      <td>10</td>\n",
       "      <td>464.50</td>\n",
       "      <td>8</td>\n",
       "      <td>3</td>\n",
       "      <td>4</td>\n",
       "    </tr>\n",
       "    <tr>\n",
       "      <th>2152425</th>\n",
       "      <td>4b9f61bac5eb0a</td>\n",
       "      <td>bc717b964f3bbe</td>\n",
       "      <td>838cb9a3c94598</td>\n",
       "      <td>3</td>\n",
       "      <td>0</td>\n",
       "      <td>945.4</td>\n",
       "      <td>0</td>\n",
       "      <td>0</td>\n",
       "      <td>0</td>\n",
       "      <td>11</td>\n",
       "      <td>...</td>\n",
       "      <td>0</td>\n",
       "      <td>844.70</td>\n",
       "      <td>14</td>\n",
       "      <td>0</td>\n",
       "      <td>0.5714</td>\n",
       "      <td>60</td>\n",
       "      <td>844.70</td>\n",
       "      <td>37</td>\n",
       "      <td>3</td>\n",
       "      <td>4</td>\n",
       "    </tr>\n",
       "    <tr>\n",
       "      <th>2592718</th>\n",
       "      <td>24e0fec84c18e9</td>\n",
       "      <td>8404855ca02e48</td>\n",
       "      <td>e886a8ebb702cf</td>\n",
       "      <td>7</td>\n",
       "      <td>0</td>\n",
       "      <td>1684.0</td>\n",
       "      <td>0</td>\n",
       "      <td>4</td>\n",
       "      <td>7</td>\n",
       "      <td>11</td>\n",
       "      <td>...</td>\n",
       "      <td>0</td>\n",
       "      <td>1115.00</td>\n",
       "      <td>54</td>\n",
       "      <td>1500</td>\n",
       "      <td>0.5714</td>\n",
       "      <td>26</td>\n",
       "      <td>4851.00</td>\n",
       "      <td>18</td>\n",
       "      <td>1</td>\n",
       "      <td>1</td>\n",
       "    </tr>\n",
       "    <tr>\n",
       "      <th>2981715</th>\n",
       "      <td>7f77051c7cef52</td>\n",
       "      <td>d6579a630399b5</td>\n",
       "      <td>4784f7d9a06b51</td>\n",
       "      <td>3</td>\n",
       "      <td>5</td>\n",
       "      <td>1025.0</td>\n",
       "      <td>5</td>\n",
       "      <td>2</td>\n",
       "      <td>5</td>\n",
       "      <td>2</td>\n",
       "      <td>...</td>\n",
       "      <td>0</td>\n",
       "      <td>3998.00</td>\n",
       "      <td>7</td>\n",
       "      <td>0</td>\n",
       "      <td>1.0000</td>\n",
       "      <td>93</td>\n",
       "      <td>4085.96</td>\n",
       "      <td>93</td>\n",
       "      <td>2</td>\n",
       "      <td>2</td>\n",
       "    </tr>\n",
       "    <tr>\n",
       "      <th>3255171</th>\n",
       "      <td>5524c154448425</td>\n",
       "      <td>674195558ad41b</td>\n",
       "      <td>db6f6d1f0d4904</td>\n",
       "      <td>1</td>\n",
       "      <td>0</td>\n",
       "      <td>1355.0</td>\n",
       "      <td>0</td>\n",
       "      <td>2</td>\n",
       "      <td>0</td>\n",
       "      <td>9</td>\n",
       "      <td>...</td>\n",
       "      <td>0</td>\n",
       "      <td>1039.00</td>\n",
       "      <td>37</td>\n",
       "      <td>0</td>\n",
       "      <td>0.5789</td>\n",
       "      <td>21</td>\n",
       "      <td>1039.00</td>\n",
       "      <td>16</td>\n",
       "      <td>1</td>\n",
       "      <td>1</td>\n",
       "    </tr>\n",
       "    <tr>\n",
       "      <th>3304284</th>\n",
       "      <td>d0c286ce498e17</td>\n",
       "      <td>17fdd45e612bab</td>\n",
       "      <td>3eaaa2f7a360fe</td>\n",
       "      <td>7</td>\n",
       "      <td>0</td>\n",
       "      <td>2330.0</td>\n",
       "      <td>0</td>\n",
       "      <td>2</td>\n",
       "      <td>0</td>\n",
       "      <td>2</td>\n",
       "      <td>...</td>\n",
       "      <td>0</td>\n",
       "      <td>68.02</td>\n",
       "      <td>32</td>\n",
       "      <td>0</td>\n",
       "      <td>1.0000</td>\n",
       "      <td>53</td>\n",
       "      <td>68.02</td>\n",
       "      <td>33</td>\n",
       "      <td>3</td>\n",
       "      <td>4</td>\n",
       "    </tr>\n",
       "    <tr>\n",
       "      <th>3320960</th>\n",
       "      <td>0040e53dfe7b5d</td>\n",
       "      <td>650661c2351eb7</td>\n",
       "      <td>2daabf3a7852e6</td>\n",
       "      <td>0</td>\n",
       "      <td>0</td>\n",
       "      <td>399.0</td>\n",
       "      <td>2</td>\n",
       "      <td>0</td>\n",
       "      <td>6</td>\n",
       "      <td>14</td>\n",
       "      <td>...</td>\n",
       "      <td>0</td>\n",
       "      <td>1511.00</td>\n",
       "      <td>45</td>\n",
       "      <td>1500</td>\n",
       "      <td>0.0000</td>\n",
       "      <td>15</td>\n",
       "      <td>5481.00</td>\n",
       "      <td>12</td>\n",
       "      <td>2</td>\n",
       "      <td>2</td>\n",
       "    </tr>\n",
       "  </tbody>\n",
       "</table>\n",
       "<p>11 rows × 34 columns</p>\n",
       "</div>"
      ],
      "text/plain": [
       "                     Id         groupId         matchId  assists  boosts  \\\n",
       "202281   88e2af7d78af5a  34ddeede52c042  4346bc63bc67fa        0       3   \n",
       "240005   41c2f5c0699807  9faecf87ab4275  634edab75860b3        5       0   \n",
       "324313   ef390c152bcc3d  30fd444be3bbc1  4f7f8d6cf558b4        2       0   \n",
       "1209416  528659ff1c1aec  7d1ba83423551d  ea9386587d5888        0       6   \n",
       "2122128  42df3102cb540b  7d9b2be15b355b  610d78f3affd2e        5       0   \n",
       "2152425  4b9f61bac5eb0a  bc717b964f3bbe  838cb9a3c94598        3       0   \n",
       "2592718  24e0fec84c18e9  8404855ca02e48  e886a8ebb702cf        7       0   \n",
       "2981715  7f77051c7cef52  d6579a630399b5  4784f7d9a06b51        3       5   \n",
       "3255171  5524c154448425  674195558ad41b  db6f6d1f0d4904        1       0   \n",
       "3304284  d0c286ce498e17  17fdd45e612bab  3eaaa2f7a360fe        7       0   \n",
       "3320960  0040e53dfe7b5d  650661c2351eb7  2daabf3a7852e6        0       0   \n",
       "\n",
       "         damageDealt  DBNOs  headshotKills  heals  killPlace  ...  \\\n",
       "202281         783.9      5              1      1          5  ...   \n",
       "240005        1284.0      8              5      7         18  ...   \n",
       "324313        1028.0      0              0      0          9  ...   \n",
       "1209416       1640.0      0              7      0          1  ...   \n",
       "2122128       2500.0      0              7      1          2  ...   \n",
       "2152425        945.4      0              0      0         11  ...   \n",
       "2592718       1684.0      0              4      7         11  ...   \n",
       "2981715       1025.0      5              2      5          2  ...   \n",
       "3255171       1355.0      0              2      0          9  ...   \n",
       "3304284       2330.0      0              2      0          2  ...   \n",
       "3320960        399.0      2              0      6         14  ...   \n",
       "\n",
       "         vehicleDestroys  walkDistance  weaponsAcquired  winPoints  \\\n",
       "202281                 1       3052.00                9          0   \n",
       "240005                 0         48.87               38       1500   \n",
       "324313                 0       1264.00               26          0   \n",
       "1209416                0       2848.00                4       1500   \n",
       "2122128                0        464.50               52          0   \n",
       "2152425                0        844.70               14          0   \n",
       "2592718                0       1115.00               54       1500   \n",
       "2981715                0       3998.00                7          0   \n",
       "3255171                0       1039.00               37          0   \n",
       "3304284                0         68.02               32          0   \n",
       "3320960                0       1511.00               45       1500   \n",
       "\n",
       "         winPlacePerc player_played  total_distance  players_joined  \\\n",
       "202281         0.9231            88         3775.20              88   \n",
       "240005         0.5385            29           48.87              23   \n",
       "324313         1.0000            51         2981.00              48   \n",
       "1209416        0.9412            52         2848.00              52   \n",
       "2122128        0.0000            10          464.50               8   \n",
       "2152425        0.5714            60          844.70              37   \n",
       "2592718        0.5714            26         4851.00              18   \n",
       "2981715        1.0000            93         4085.96              93   \n",
       "3255171        0.5789            21         1039.00              16   \n",
       "3304284        1.0000            53           68.02              33   \n",
       "3320960        0.0000            15         5481.00              12   \n",
       "\n",
       "         players_in_a_team  max_team  \n",
       "202281                   3         4  \n",
       "240005                   2         2  \n",
       "324313                   4         4  \n",
       "1209416                  1         1  \n",
       "2122128                  3         4  \n",
       "2152425                  3         4  \n",
       "2592718                  1         1  \n",
       "2981715                  2         2  \n",
       "3255171                  1         1  \n",
       "3304284                  3         4  \n",
       "3320960                  2         2  \n",
       "\n",
       "[11 rows x 34 columns]"
      ]
     },
     "execution_count": 65,
     "metadata": {},
     "output_type": "execute_result"
    }
   ],
   "source": [
    "\n",
    "# Let's take a look at the players who make these shots. \n",
    "train[train['longestKill']>=1000]"
   ]
  },
  {
   "cell_type": "code",
   "execution_count": 66,
   "metadata": {},
   "outputs": [
    {
     "data": {
      "text/html": [
       "<div>\n",
       "<style scoped>\n",
       "    .dataframe tbody tr th:only-of-type {\n",
       "        vertical-align: middle;\n",
       "    }\n",
       "\n",
       "    .dataframe tbody tr th {\n",
       "        vertical-align: top;\n",
       "    }\n",
       "\n",
       "    .dataframe thead th {\n",
       "        text-align: right;\n",
       "    }\n",
       "</style>\n",
       "<table border=\"1\" class=\"dataframe\">\n",
       "  <thead>\n",
       "    <tr style=\"text-align: right;\">\n",
       "      <th></th>\n",
       "      <th>Id</th>\n",
       "      <th>groupId</th>\n",
       "      <th>matchId</th>\n",
       "      <th>assists</th>\n",
       "      <th>boosts</th>\n",
       "      <th>damageDealt</th>\n",
       "      <th>DBNOs</th>\n",
       "      <th>headshotKills</th>\n",
       "      <th>heals</th>\n",
       "      <th>killPlace</th>\n",
       "      <th>...</th>\n",
       "      <th>teamKills</th>\n",
       "      <th>vehicleDestroys</th>\n",
       "      <th>walkDistance</th>\n",
       "      <th>weaponsAcquired</th>\n",
       "      <th>winPoints</th>\n",
       "      <th>player_played</th>\n",
       "      <th>total_distance</th>\n",
       "      <th>players_joined</th>\n",
       "      <th>players_in_a_team</th>\n",
       "      <th>max_team</th>\n",
       "    </tr>\n",
       "  </thead>\n",
       "  <tbody>\n",
       "    <tr>\n",
       "      <th>15085</th>\n",
       "      <td>b2d7b5499c7fdd</td>\n",
       "      <td>c57312c6ebd390</td>\n",
       "      <td>5fb683abbf1f33</td>\n",
       "      <td>4</td>\n",
       "      <td>0</td>\n",
       "      <td>1119.0</td>\n",
       "      <td>0</td>\n",
       "      <td>2</td>\n",
       "      <td>3</td>\n",
       "      <td>11</td>\n",
       "      <td>...</td>\n",
       "      <td>0</td>\n",
       "      <td>0</td>\n",
       "      <td>1135.0</td>\n",
       "      <td>19</td>\n",
       "      <td>0</td>\n",
       "      <td>48</td>\n",
       "      <td>1190.4</td>\n",
       "      <td>39</td>\n",
       "      <td>4</td>\n",
       "      <td>4</td>\n",
       "    </tr>\n",
       "  </tbody>\n",
       "</table>\n",
       "<p>1 rows × 33 columns</p>\n",
       "</div>"
      ],
      "text/plain": [
       "                   Id         groupId         matchId  assists  boosts  \\\n",
       "15085  b2d7b5499c7fdd  c57312c6ebd390  5fb683abbf1f33        4       0   \n",
       "\n",
       "       damageDealt  DBNOs  headshotKills  heals  killPlace  ...  teamKills  \\\n",
       "15085       1119.0      0              2      3         11  ...          0   \n",
       "\n",
       "       vehicleDestroys  walkDistance  weaponsAcquired  winPoints  \\\n",
       "15085                0        1135.0               19          0   \n",
       "\n",
       "      player_played  total_distance  players_joined  players_in_a_team  \\\n",
       "15085            48          1190.4              39                  4   \n",
       "\n",
       "       max_team  \n",
       "15085         4  \n",
       "\n",
       "[1 rows x 33 columns]"
      ]
     },
     "execution_count": 66,
     "metadata": {},
     "output_type": "execute_result"
    }
   ],
   "source": [
    "\n",
    "# Let's take a look at the players who make these shots. \n",
    "test[test['longestKill']>=1000]"
   ]
  },
  {
   "cell_type": "code",
   "execution_count": 67,
   "metadata": {},
   "outputs": [],
   "source": [
    "# drop outliers.      \n",
    "\n",
    "\n",
    "#train\n",
    "train.drop(train[train['longestKill']>=1000].index,inplace=True)\n",
    "\n",
    "#test\n",
    "\n",
    "test.drop(test[test['longestKill']>=1000].index,inplace=True)"
   ]
  },
  {
   "cell_type": "code",
   "execution_count": 68,
   "metadata": {},
   "outputs": [
    {
     "data": {
      "text/html": [
       "<div>\n",
       "<style scoped>\n",
       "    .dataframe tbody tr th:only-of-type {\n",
       "        vertical-align: middle;\n",
       "    }\n",
       "\n",
       "    .dataframe tbody tr th {\n",
       "        vertical-align: top;\n",
       "    }\n",
       "\n",
       "    .dataframe thead th {\n",
       "        text-align: right;\n",
       "    }\n",
       "</style>\n",
       "<table border=\"1\" class=\"dataframe\">\n",
       "  <thead>\n",
       "    <tr style=\"text-align: right;\">\n",
       "      <th></th>\n",
       "      <th>rideDistance</th>\n",
       "      <th>walkDistance</th>\n",
       "      <th>swimDistance</th>\n",
       "      <th>total_distance</th>\n",
       "    </tr>\n",
       "  </thead>\n",
       "  <tbody>\n",
       "    <tr>\n",
       "      <th>0</th>\n",
       "      <td>0.0000</td>\n",
       "      <td>244.80</td>\n",
       "      <td>0.00</td>\n",
       "      <td>244.8000</td>\n",
       "    </tr>\n",
       "    <tr>\n",
       "      <th>1</th>\n",
       "      <td>0.0045</td>\n",
       "      <td>1434.00</td>\n",
       "      <td>11.04</td>\n",
       "      <td>1445.0445</td>\n",
       "    </tr>\n",
       "    <tr>\n",
       "      <th>2</th>\n",
       "      <td>0.0000</td>\n",
       "      <td>161.80</td>\n",
       "      <td>0.00</td>\n",
       "      <td>161.8000</td>\n",
       "    </tr>\n",
       "    <tr>\n",
       "      <th>3</th>\n",
       "      <td>0.0000</td>\n",
       "      <td>202.70</td>\n",
       "      <td>0.00</td>\n",
       "      <td>202.7000</td>\n",
       "    </tr>\n",
       "    <tr>\n",
       "      <th>4</th>\n",
       "      <td>0.0000</td>\n",
       "      <td>49.75</td>\n",
       "      <td>0.00</td>\n",
       "      <td>49.7500</td>\n",
       "    </tr>\n",
       "  </tbody>\n",
       "</table>\n",
       "</div>"
      ],
      "text/plain": [
       "   rideDistance  walkDistance  swimDistance  total_distance\n",
       "0        0.0000        244.80          0.00        244.8000\n",
       "1        0.0045       1434.00         11.04       1445.0445\n",
       "2        0.0000        161.80          0.00        161.8000\n",
       "3        0.0000        202.70          0.00        202.7000\n",
       "4        0.0000         49.75          0.00         49.7500"
      ]
     },
     "execution_count": 68,
     "metadata": {},
     "output_type": "execute_result"
    }
   ],
   "source": [
    "train[['rideDistance','walkDistance','swimDistance','total_distance']].head()"
   ]
  },
  {
   "cell_type": "code",
   "execution_count": 70,
   "metadata": {},
   "outputs": [
    {
     "data": {
      "text/html": [
       "<div>\n",
       "<style scoped>\n",
       "    .dataframe tbody tr th:only-of-type {\n",
       "        vertical-align: middle;\n",
       "    }\n",
       "\n",
       "    .dataframe tbody tr th {\n",
       "        vertical-align: top;\n",
       "    }\n",
       "\n",
       "    .dataframe thead th {\n",
       "        text-align: right;\n",
       "    }\n",
       "</style>\n",
       "<table border=\"1\" class=\"dataframe\">\n",
       "  <thead>\n",
       "    <tr style=\"text-align: right;\">\n",
       "      <th></th>\n",
       "      <th>rideDistance</th>\n",
       "      <th>walkDistance</th>\n",
       "      <th>swimDistance</th>\n",
       "      <th>total_distance</th>\n",
       "    </tr>\n",
       "  </thead>\n",
       "  <tbody>\n",
       "    <tr>\n",
       "      <th>0</th>\n",
       "      <td>0.0</td>\n",
       "      <td>588.0</td>\n",
       "      <td>0.0</td>\n",
       "      <td>588.0</td>\n",
       "    </tr>\n",
       "    <tr>\n",
       "      <th>1</th>\n",
       "      <td>4669.0</td>\n",
       "      <td>2017.0</td>\n",
       "      <td>0.0</td>\n",
       "      <td>6686.0</td>\n",
       "    </tr>\n",
       "    <tr>\n",
       "      <th>2</th>\n",
       "      <td>0.0</td>\n",
       "      <td>787.8</td>\n",
       "      <td>0.0</td>\n",
       "      <td>787.8</td>\n",
       "    </tr>\n",
       "    <tr>\n",
       "      <th>3</th>\n",
       "      <td>0.0</td>\n",
       "      <td>1812.0</td>\n",
       "      <td>0.0</td>\n",
       "      <td>1812.0</td>\n",
       "    </tr>\n",
       "    <tr>\n",
       "      <th>4</th>\n",
       "      <td>0.0</td>\n",
       "      <td>2963.0</td>\n",
       "      <td>0.0</td>\n",
       "      <td>2963.0</td>\n",
       "    </tr>\n",
       "  </tbody>\n",
       "</table>\n",
       "</div>"
      ],
      "text/plain": [
       "   rideDistance  walkDistance  swimDistance  total_distance\n",
       "0           0.0         588.0           0.0           588.0\n",
       "1        4669.0        2017.0           0.0          6686.0\n",
       "2           0.0         787.8           0.0           787.8\n",
       "3           0.0        1812.0           0.0          1812.0\n",
       "4           0.0        2963.0           0.0          2963.0"
      ]
     },
     "execution_count": 70,
     "metadata": {},
     "output_type": "execute_result"
    }
   ],
   "source": [
    "test[['rideDistance','walkDistance','swimDistance','total_distance']].head()"
   ]
  },
  {
   "cell_type": "code",
   "execution_count": 69,
   "metadata": {},
   "outputs": [
    {
     "name": "stderr",
     "output_type": "stream",
     "text": [
      "C:\\Users\\sarth\\AppData\\Local\\Temp\\ipykernel_19004\\2243201589.py:2: UserWarning: \n",
      "\n",
      "`distplot` is a deprecated function and will be removed in seaborn v0.14.0.\n",
      "\n",
      "Please adapt your code to use either `displot` (a figure-level function with\n",
      "similar flexibility) or `histplot` (an axes-level function for histograms).\n",
      "\n",
      "For a guide to updating your code to use the new functions, please see\n",
      "https://gist.github.com/mwaskom/de44147ed2974457ad6372750bbe5751\n",
      "\n",
      "  sns.distplot(train['walkDistance'], bins=10)\n"
     ]
    },
    {
     "data": {
      "image/png": "[encoded data removed]",
      "text/plain": [
       "<Figure size 1200x400 with 1 Axes>"
      ]
     },
     "metadata": {},
     "output_type": "display_data"
    }
   ],
   "source": [
    "\n",
    "plt.figure(figsize=(12,4))\n",
    "sns.distplot(train['walkDistance'], bins=10)\n",
    "plt.show()\n"
   ]
  },
  {
   "cell_type": "code",
   "execution_count": 71,
   "metadata": {},
   "outputs": [],
   "source": [
    "\n",
    "#Remove the outliers\n",
    "\n",
    "#train\n",
    "train.drop(train[train['walkDistance']>=10000].index,inplace=True)\n",
    "\n",
    "\n",
    "#test\n",
    "test.drop(test[test['walkDistance']>=10000].index,inplace=True)"
   ]
  },
  {
   "cell_type": "code",
   "execution_count": 72,
   "metadata": {},
   "outputs": [
    {
     "name": "stdout",
     "output_type": "stream",
     "text": [
      "<class 'pandas.core.frame.DataFrame'>\n",
      "Index: 3528429 entries, 0 to 4446965\n",
      "Data columns (total 34 columns):\n",
      " #   Column             Dtype  \n",
      "---  ------             -----  \n",
      " 0   Id                 object \n",
      " 1   groupId            object \n",
      " 2   matchId            object \n",
      " 3   assists            int64  \n",
      " 4   boosts             int64  \n",
      " 5   damageDealt        float64\n",
      " 6   DBNOs              int64  \n",
      " 7   headshotKills      int64  \n",
      " 8   heals              int64  \n",
      " 9   killPlace          int64  \n",
      " 10  killPoints         int64  \n",
      " 11  kills              int64  \n",
      " 12  killStreaks        int64  \n",
      " 13  longestKill        float64\n",
      " 14  matchDuration      int64  \n",
      " 15  matchType          object \n",
      " 16  maxPlace           int64  \n",
      " 17  numGroups          int64  \n",
      " 18  rankPoints         int64  \n",
      " 19  revives            int64  \n",
      " 20  rideDistance       float64\n",
      " 21  roadKills          int64  \n",
      " 22  swimDistance       float64\n",
      " 23  teamKills          int64  \n",
      " 24  vehicleDestroys    int64  \n",
      " 25  walkDistance       float64\n",
      " 26  weaponsAcquired    int64  \n",
      " 27  winPoints          int64  \n",
      " 28  winPlacePerc       float64\n",
      " 29  player_played      int64  \n",
      " 30  total_distance     float64\n",
      " 31  players_joined     int64  \n",
      " 32  players_in_a_team  int64  \n",
      " 33  max_team           int64  \n",
      "dtypes: float64(7), int64(23), object(4)\n",
      "memory usage: 942.2+ MB\n"
     ]
    }
   ],
   "source": [
    "train.info()"
   ]
  },
  {
   "cell_type": "code",
   "execution_count": 73,
   "metadata": {},
   "outputs": [
    {
     "name": "stdout",
     "output_type": "stream",
     "text": [
      "<class 'pandas.core.frame.DataFrame'>\n",
      "Index: 1539205 entries, 0 to 1934173\n",
      "Data columns (total 33 columns):\n",
      " #   Column             Non-Null Count    Dtype  \n",
      "---  ------             --------------    -----  \n",
      " 0   Id                 1539205 non-null  object \n",
      " 1   groupId            1539205 non-null  object \n",
      " 2   matchId            1539205 non-null  object \n",
      " 3   assists            1539205 non-null  int64  \n",
      " 4   boosts             1539205 non-null  int64  \n",
      " 5   damageDealt        1539205 non-null  float64\n",
      " 6   DBNOs              1539205 non-null  int64  \n",
      " 7   headshotKills      1539205 non-null  int64  \n",
      " 8   heals              1539205 non-null  int64  \n",
      " 9   killPlace          1539205 non-null  int64  \n",
      " 10  killPoints         1539205 non-null  int64  \n",
      " 11  kills              1539205 non-null  int64  \n",
      " 12  killStreaks        1539205 non-null  int64  \n",
      " 13  longestKill        1539205 non-null  float64\n",
      " 14  matchDuration      1539205 non-null  int64  \n",
      " 15  matchType          1539205 non-null  object \n",
      " 16  maxPlace           1539205 non-null  int64  \n",
      " 17  numGroups          1539205 non-null  int64  \n",
      " 18  rankPoints         1539205 non-null  int64  \n",
      " 19  revives            1539205 non-null  int64  \n",
      " 20  rideDistance       1539205 non-null  float64\n",
      " 21  roadKills          1539205 non-null  int64  \n",
      " 22  swimDistance       1539205 non-null  float64\n",
      " 23  teamKills          1539205 non-null  int64  \n",
      " 24  vehicleDestroys    1539205 non-null  int64  \n",
      " 25  walkDistance       1539205 non-null  float64\n",
      " 26  weaponsAcquired    1539205 non-null  int64  \n",
      " 27  winPoints          1539205 non-null  int64  \n",
      " 28  player_played      1539205 non-null  int64  \n",
      " 29  total_distance     1539205 non-null  float64\n",
      " 30  players_joined     1539205 non-null  int64  \n",
      " 31  players_in_a_team  1539205 non-null  int64  \n",
      " 32  max_team           1539205 non-null  int64  \n",
      "dtypes: float64(6), int64(23), object(4)\n",
      "memory usage: 399.3+ MB\n"
     ]
    }
   ],
   "source": [
    "test.info()"
   ]
  },
  {
   "cell_type": "code",
   "execution_count": 74,
   "metadata": {},
   "outputs": [
    {
     "name": "stderr",
     "output_type": "stream",
     "text": [
      "C:\\Users\\sarth\\AppData\\Local\\Temp\\ipykernel_19004\\3029973416.py:2: UserWarning: \n",
      "\n",
      "`distplot` is a deprecated function and will be removed in seaborn v0.14.0.\n",
      "\n",
      "Please adapt your code to use either `displot` (a figure-level function with\n",
      "similar flexibility) or `histplot` (an axes-level function for histograms).\n",
      "\n",
      "For a guide to updating your code to use the new functions, please see\n",
      "https://gist.github.com/mwaskom/de44147ed2974457ad6372750bbe5751\n",
      "\n",
      "  sns.distplot(train.rideDistance,bins=10)\n"
     ]
    },
    {
     "data": {
      "image/png": "[encoded data removed]",
      "text/plain": [
       "<Figure size 1200x400 with 1 Axes>"
      ]
     },
     "metadata": {},
     "output_type": "display_data"
    }
   ],
   "source": [
    "plt.subplots(figsize=(12,4))\n",
    "sns.distplot(train.rideDistance,bins=10)\n",
    "plt.show()"
   ]
  },
  {
   "cell_type": "code",
   "execution_count": 75,
   "metadata": {},
   "outputs": [],
   "source": [
    "#test\n",
    "\n",
    "train.drop(train[train.rideDistance >=15000].index, inplace=True)\n",
    "\n",
    "#test\n",
    "\n",
    "test.drop(test[test.rideDistance >=15000].index, inplace=True)\n",
    "     "
   ]
  },
  {
   "cell_type": "code",
   "execution_count": 76,
   "metadata": {},
   "outputs": [
    {
     "name": "stdout",
     "output_type": "stream",
     "text": [
      "<class 'pandas.core.frame.DataFrame'>\n",
      "Index: 3527948 entries, 0 to 4446965\n",
      "Data columns (total 34 columns):\n",
      " #   Column             Dtype  \n",
      "---  ------             -----  \n",
      " 0   Id                 object \n",
      " 1   groupId            object \n",
      " 2   matchId            object \n",
      " 3   assists            int64  \n",
      " 4   boosts             int64  \n",
      " 5   damageDealt        float64\n",
      " 6   DBNOs              int64  \n",
      " 7   headshotKills      int64  \n",
      " 8   heals              int64  \n",
      " 9   killPlace          int64  \n",
      " 10  killPoints         int64  \n",
      " 11  kills              int64  \n",
      " 12  killStreaks        int64  \n",
      " 13  longestKill        float64\n",
      " 14  matchDuration      int64  \n",
      " 15  matchType          object \n",
      " 16  maxPlace           int64  \n",
      " 17  numGroups          int64  \n",
      " 18  rankPoints         int64  \n",
      " 19  revives            int64  \n",
      " 20  rideDistance       float64\n",
      " 21  roadKills          int64  \n",
      " 22  swimDistance       float64\n",
      " 23  teamKills          int64  \n",
      " 24  vehicleDestroys    int64  \n",
      " 25  walkDistance       float64\n",
      " 26  weaponsAcquired    int64  \n",
      " 27  winPoints          int64  \n",
      " 28  winPlacePerc       float64\n",
      " 29  player_played      int64  \n",
      " 30  total_distance     float64\n",
      " 31  players_joined     int64  \n",
      " 32  players_in_a_team  int64  \n",
      " 33  max_team           int64  \n",
      "dtypes: float64(7), int64(23), object(4)\n",
      "memory usage: 942.1+ MB\n"
     ]
    }
   ],
   "source": [
    "train.info()"
   ]
  },
  {
   "cell_type": "code",
   "execution_count": 77,
   "metadata": {},
   "outputs": [
    {
     "name": "stderr",
     "output_type": "stream",
     "text": [
      "C:\\Users\\sarth\\AppData\\Local\\Temp\\ipykernel_19004\\3473420873.py:3: UserWarning: \n",
      "\n",
      "`distplot` is a deprecated function and will be removed in seaborn v0.14.0.\n",
      "\n",
      "Please adapt your code to use either `displot` (a figure-level function with\n",
      "similar flexibility) or `histplot` (an axes-level function for histograms).\n",
      "\n",
      "For a guide to updating your code to use the new functions, please see\n",
      "https://gist.github.com/mwaskom/de44147ed2974457ad6372750bbe5751\n",
      "\n",
      "  sns.distplot(train.swimDistance,bins=10)\n"
     ]
    },
    {
     "data": {
      "text/plain": [
       "<Axes: xlabel='swimDistance', ylabel='Density'>"
      ]
     },
     "execution_count": 77,
     "metadata": {},
     "output_type": "execute_result"
    },
    {
     "data": {
      "image/png": "[encoded data removed]",
      "text/plain": [
       "<Figure size 1200x400 with 1 Axes>"
      ]
     },
     "metadata": {},
     "output_type": "display_data"
    }
   ],
   "source": [
    "# swimDistance\n",
    "plt.subplots(figsize=(12, 4))\n",
    "sns.distplot(train.swimDistance,bins=10)"
   ]
  },
  {
   "cell_type": "code",
   "execution_count": 78,
   "metadata": {},
   "outputs": [
    {
     "data": {
      "text/plain": [
       "(130, 34)"
      ]
     },
     "execution_count": 78,
     "metadata": {},
     "output_type": "execute_result"
    }
   ],
   "source": [
    "train[train['swimDistance']>=1000].shape\n",
    "     "
   ]
  },
  {
   "cell_type": "code",
   "execution_count": 79,
   "metadata": {},
   "outputs": [],
   "source": [
    "\n",
    "#Remove the ouliers.\n",
    "\n",
    "#train\n",
    "train.drop(train[train.swimDistance>=1000].index,inplace=True)\n",
    "\n",
    "#test\n",
    "test.drop(test[test.swimDistance>=1000].index,inplace=True)"
   ]
  },
  {
   "cell_type": "code",
   "execution_count": 80,
   "metadata": {},
   "outputs": [
    {
     "name": "stdout",
     "output_type": "stream",
     "text": [
      "<class 'pandas.core.frame.DataFrame'>\n",
      "Index: 3527818 entries, 0 to 4446965\n",
      "Data columns (total 34 columns):\n",
      " #   Column             Dtype  \n",
      "---  ------             -----  \n",
      " 0   Id                 object \n",
      " 1   groupId            object \n",
      " 2   matchId            object \n",
      " 3   assists            int64  \n",
      " 4   boosts             int64  \n",
      " 5   damageDealt        float64\n",
      " 6   DBNOs              int64  \n",
      " 7   headshotKills      int64  \n",
      " 8   heals              int64  \n",
      " 9   killPlace          int64  \n",
      " 10  killPoints         int64  \n",
      " 11  kills              int64  \n",
      " 12  killStreaks        int64  \n",
      " 13  longestKill        float64\n",
      " 14  matchDuration      int64  \n",
      " 15  matchType          object \n",
      " 16  maxPlace           int64  \n",
      " 17  numGroups          int64  \n",
      " 18  rankPoints         int64  \n",
      " 19  revives            int64  \n",
      " 20  rideDistance       float64\n",
      " 21  roadKills          int64  \n",
      " 22  swimDistance       float64\n",
      " 23  teamKills          int64  \n",
      " 24  vehicleDestroys    int64  \n",
      " 25  walkDistance       float64\n",
      " 26  weaponsAcquired    int64  \n",
      " 27  winPoints          int64  \n",
      " 28  winPlacePerc       float64\n",
      " 29  player_played      int64  \n",
      " 30  total_distance     float64\n",
      " 31  players_joined     int64  \n",
      " 32  players_in_a_team  int64  \n",
      " 33  max_team           int64  \n",
      "dtypes: float64(7), int64(23), object(4)\n",
      "memory usage: 942.0+ MB\n"
     ]
    }
   ],
   "source": [
    "train.info()"
   ]
  },
  {
   "cell_type": "code",
   "execution_count": 81,
   "metadata": {},
   "outputs": [
    {
     "name": "stderr",
     "output_type": "stream",
     "text": [
      "C:\\Users\\sarth\\AppData\\Local\\Temp\\ipykernel_19004\\662796037.py:3: UserWarning: \n",
      "\n",
      "`distplot` is a deprecated function and will be removed in seaborn v0.14.0.\n",
      "\n",
      "Please adapt your code to use either `displot` (a figure-level function with\n",
      "similar flexibility) or `histplot` (an axes-level function for histograms).\n",
      "\n",
      "For a guide to updating your code to use the new functions, please see\n",
      "https://gist.github.com/mwaskom/de44147ed2974457ad6372750bbe5751\n",
      "\n",
      "  sns.distplot(train.total_distance,bins=10)\n"
     ]
    },
    {
     "data": {
      "text/plain": [
       "<Axes: xlabel='total_distance', ylabel='Density'>"
      ]
     },
     "execution_count": 81,
     "metadata": {},
     "output_type": "execute_result"
    },
    {
     "data": {
      "image/png": "[encoded data removed]",
      "text/plain": [
       "<Figure size 1200x400 with 1 Axes>"
      ]
     },
     "metadata": {},
     "output_type": "display_data"
    }
   ],
   "source": [
    "# total_distance\n",
    "plt.subplots(figsize=(12,4))\n",
    "sns.distplot(train.total_distance,bins=10)"
   ]
  },
  {
   "cell_type": "code",
   "execution_count": 82,
   "metadata": {},
   "outputs": [
    {
     "data": {
      "text/plain": [
       "(503, 34)"
      ]
     },
     "execution_count": 82,
     "metadata": {},
     "output_type": "execute_result"
    }
   ],
   "source": [
    "\n",
    "train[train.total_distance>=15000].shape"
   ]
  },
  {
   "cell_type": "code",
   "execution_count": 83,
   "metadata": {},
   "outputs": [],
   "source": [
    "#Remove the outliers.\n",
    "\n",
    "#train\n",
    "train.drop(train[train.total_distance>=15000].index,inplace=True)\n",
    "\n",
    "#test\n",
    "test.drop(test[test.total_distance>=15000].index,inplace=True)\n"
   ]
  },
  {
   "cell_type": "code",
   "execution_count": 84,
   "metadata": {},
   "outputs": [
    {
     "name": "stdout",
     "output_type": "stream",
     "text": [
      "<class 'pandas.core.frame.DataFrame'>\n",
      "Index: 3527315 entries, 0 to 4446965\n",
      "Data columns (total 34 columns):\n",
      " #   Column             Dtype  \n",
      "---  ------             -----  \n",
      " 0   Id                 object \n",
      " 1   groupId            object \n",
      " 2   matchId            object \n",
      " 3   assists            int64  \n",
      " 4   boosts             int64  \n",
      " 5   damageDealt        float64\n",
      " 6   DBNOs              int64  \n",
      " 7   headshotKills      int64  \n",
      " 8   heals              int64  \n",
      " 9   killPlace          int64  \n",
      " 10  killPoints         int64  \n",
      " 11  kills              int64  \n",
      " 12  killStreaks        int64  \n",
      " 13  longestKill        float64\n",
      " 14  matchDuration      int64  \n",
      " 15  matchType          object \n",
      " 16  maxPlace           int64  \n",
      " 17  numGroups          int64  \n",
      " 18  rankPoints         int64  \n",
      " 19  revives            int64  \n",
      " 20  rideDistance       float64\n",
      " 21  roadKills          int64  \n",
      " 22  swimDistance       float64\n",
      " 23  teamKills          int64  \n",
      " 24  vehicleDestroys    int64  \n",
      " 25  walkDistance       float64\n",
      " 26  weaponsAcquired    int64  \n",
      " 27  winPoints          int64  \n",
      " 28  winPlacePerc       float64\n",
      " 29  player_played      int64  \n",
      " 30  total_distance     float64\n",
      " 31  players_joined     int64  \n",
      " 32  players_in_a_team  int64  \n",
      " 33  max_team           int64  \n",
      "dtypes: float64(7), int64(23), object(4)\n",
      "memory usage: 941.9+ MB\n"
     ]
    }
   ],
   "source": [
    "train.info()"
   ]
  },
  {
   "cell_type": "code",
   "execution_count": 85,
   "metadata": {},
   "outputs": [
    {
     "name": "stderr",
     "output_type": "stream",
     "text": [
      "C:\\Users\\sarth\\AppData\\Local\\Temp\\ipykernel_19004\\4235907921.py:5: UserWarning: \n",
      "\n",
      "`distplot` is a deprecated function and will be removed in seaborn v0.14.0.\n",
      "\n",
      "Please adapt your code to use either `displot` (a figure-level function with\n",
      "similar flexibility) or `histplot` (an axes-level function for histograms).\n",
      "\n",
      "For a guide to updating your code to use the new functions, please see\n",
      "https://gist.github.com/mwaskom/de44147ed2974457ad6372750bbe5751\n",
      "\n",
      "  sns.distplot(train['weaponsAcquired'], bins=100)\n"
     ]
    },
    {
     "data": {
      "image/png": "[encoded data removed]",
      "text/plain": [
       "<Figure size 1200x400 with 1 Axes>"
      ]
     },
     "metadata": {},
     "output_type": "display_data"
    }
   ],
   "source": [
    "#weaponsAcquired\n",
    "#distplot\n",
    "\n",
    "plt.figure(figsize=(12,4))\n",
    "sns.distplot(train['weaponsAcquired'], bins=100)\n",
    "plt.show()"
   ]
  },
  {
   "cell_type": "code",
   "execution_count": 86,
   "metadata": {},
   "outputs": [
    {
     "data": {
      "text/plain": [
       "(126, 34)"
      ]
     },
     "execution_count": 86,
     "metadata": {},
     "output_type": "execute_result"
    }
   ],
   "source": [
    "train[train.weaponsAcquired>=50].shape"
   ]
  },
  {
   "cell_type": "code",
   "execution_count": 87,
   "metadata": {},
   "outputs": [],
   "source": [
    "# remove the outliers.\n",
    "\n",
    "#train\n",
    "train.drop(train[train.weaponsAcquired>=50].index,inplace=True)\n",
    "\n",
    "#test\n",
    "test.drop(test[test.weaponsAcquired>=50].index,inplace=True)"
   ]
  },
  {
   "cell_type": "code",
   "execution_count": 88,
   "metadata": {},
   "outputs": [
    {
     "name": "stdout",
     "output_type": "stream",
     "text": [
      "<class 'pandas.core.frame.DataFrame'>\n",
      "Index: 3527189 entries, 0 to 4446965\n",
      "Data columns (total 34 columns):\n",
      " #   Column             Dtype  \n",
      "---  ------             -----  \n",
      " 0   Id                 object \n",
      " 1   groupId            object \n",
      " 2   matchId            object \n",
      " 3   assists            int64  \n",
      " 4   boosts             int64  \n",
      " 5   damageDealt        float64\n",
      " 6   DBNOs              int64  \n",
      " 7   headshotKills      int64  \n",
      " 8   heals              int64  \n",
      " 9   killPlace          int64  \n",
      " 10  killPoints         int64  \n",
      " 11  kills              int64  \n",
      " 12  killStreaks        int64  \n",
      " 13  longestKill        float64\n",
      " 14  matchDuration      int64  \n",
      " 15  matchType          object \n",
      " 16  maxPlace           int64  \n",
      " 17  numGroups          int64  \n",
      " 18  rankPoints         int64  \n",
      " 19  revives            int64  \n",
      " 20  rideDistance       float64\n",
      " 21  roadKills          int64  \n",
      " 22  swimDistance       float64\n",
      " 23  teamKills          int64  \n",
      " 24  vehicleDestroys    int64  \n",
      " 25  walkDistance       float64\n",
      " 26  weaponsAcquired    int64  \n",
      " 27  winPoints          int64  \n",
      " 28  winPlacePerc       float64\n",
      " 29  player_played      int64  \n",
      " 30  total_distance     float64\n",
      " 31  players_joined     int64  \n",
      " 32  players_in_a_team  int64  \n",
      " 33  max_team           int64  \n",
      "dtypes: float64(7), int64(23), object(4)\n",
      "memory usage: 941.9+ MB\n"
     ]
    }
   ],
   "source": [
    "train.info()"
   ]
  },
  {
   "cell_type": "code",
   "execution_count": 89,
   "metadata": {},
   "outputs": [
    {
     "name": "stderr",
     "output_type": "stream",
     "text": [
      "C:\\Users\\sarth\\AppData\\Local\\Temp\\ipykernel_19004\\3445597730.py:5: UserWarning: \n",
      "\n",
      "`distplot` is a deprecated function and will be removed in seaborn v0.14.0.\n",
      "\n",
      "Please adapt your code to use either `displot` (a figure-level function with\n",
      "similar flexibility) or `histplot` (an axes-level function for histograms).\n",
      "\n",
      "For a guide to updating your code to use the new functions, please see\n",
      "https://gist.github.com/mwaskom/de44147ed2974457ad6372750bbe5751\n",
      "\n",
      "  sns.distplot(train.heals, bins=20)\n"
     ]
    },
    {
     "data": {
      "text/plain": [
       "<Axes: xlabel='heals', ylabel='Density'>"
      ]
     },
     "execution_count": 89,
     "metadata": {},
     "output_type": "execute_result"
    },
    {
     "data": {
      "image/png": "[encoded data removed]",
      "text/plain": [
       "<Figure size 1200x400 with 1 Axes>"
      ]
     },
     "metadata": {},
     "output_type": "display_data"
    }
   ],
   "source": [
    "#heals \n",
    "#distplot\n",
    "\n",
    "plt.subplots(figsize=(12,4))\n",
    "sns.distplot(train.heals, bins=20)"
   ]
  },
  {
   "cell_type": "code",
   "execution_count": 90,
   "metadata": {},
   "outputs": [
    {
     "data": {
      "text/plain": [
       "(132, 34)"
      ]
     },
     "execution_count": 90,
     "metadata": {},
     "output_type": "execute_result"
    }
   ],
   "source": [
    "\n",
    "train[train.heals>=40].shape"
   ]
  },
  {
   "cell_type": "code",
   "execution_count": 91,
   "metadata": {},
   "outputs": [],
   "source": [
    "\n",
    "# remove the outliers.\n",
    "\n",
    "#train\n",
    "train.drop(train[train.heals>=40].index,inplace=True)\n",
    "\n",
    "#test\n",
    "\n",
    "test.drop(test[test.heals>=40].index,inplace=True)\n"
   ]
  },
  {
   "cell_type": "code",
   "execution_count": 92,
   "metadata": {},
   "outputs": [
    {
     "name": "stdout",
     "output_type": "stream",
     "text": [
      "<class 'pandas.core.frame.DataFrame'>\n",
      "Index: 3527057 entries, 0 to 4446965\n",
      "Data columns (total 34 columns):\n",
      " #   Column             Dtype  \n",
      "---  ------             -----  \n",
      " 0   Id                 object \n",
      " 1   groupId            object \n",
      " 2   matchId            object \n",
      " 3   assists            int64  \n",
      " 4   boosts             int64  \n",
      " 5   damageDealt        float64\n",
      " 6   DBNOs              int64  \n",
      " 7   headshotKills      int64  \n",
      " 8   heals              int64  \n",
      " 9   killPlace          int64  \n",
      " 10  killPoints         int64  \n",
      " 11  kills              int64  \n",
      " 12  killStreaks        int64  \n",
      " 13  longestKill        float64\n",
      " 14  matchDuration      int64  \n",
      " 15  matchType          object \n",
      " 16  maxPlace           int64  \n",
      " 17  numGroups          int64  \n",
      " 18  rankPoints         int64  \n",
      " 19  revives            int64  \n",
      " 20  rideDistance       float64\n",
      " 21  roadKills          int64  \n",
      " 22  swimDistance       float64\n",
      " 23  teamKills          int64  \n",
      " 24  vehicleDestroys    int64  \n",
      " 25  walkDistance       float64\n",
      " 26  weaponsAcquired    int64  \n",
      " 27  winPoints          int64  \n",
      " 28  winPlacePerc       float64\n",
      " 29  player_played      int64  \n",
      " 30  total_distance     float64\n",
      " 31  players_joined     int64  \n",
      " 32  players_in_a_team  int64  \n",
      " 33  max_team           int64  \n",
      "dtypes: float64(7), int64(23), object(4)\n",
      "memory usage: 941.8+ MB\n"
     ]
    }
   ],
   "source": [
    "train.info()"
   ]
  },
  {
   "cell_type": "code",
   "execution_count": null,
   "metadata": {},
   "outputs": [],
   "source": []
  }
 ],
 "metadata": {
  "kernelspec": {
   "display_name": "myenv",
   "language": "python",
   "name": "python3"
  },
  "language_info": {
   "codemirror_mode": {
    "name": "ipython",
    "version": 3
   },
   "file_extension": ".py",
   "mimetype": "text/x-python",
   "name": "python",
   "nbconvert_exporter": "python",
   "pygments_lexer": "ipython3",
   "version": "3.11.4"
  }
 },
 "nbformat": 4,
 "nbformat_minor": 2
}
